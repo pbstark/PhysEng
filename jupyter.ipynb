{
 "cells": [
  {
   "cell_type": "markdown",
   "metadata": {
    "collapsed": true
   },
   "source": [
    "# Introduction to Jupyter and Python\n",
    "This is a [Jupyter](https://jupyter.org/) notebook.\n",
    "[Here is a Jupyter tutorial](https://youtu.be/Rc4JQWowG5I).\n",
    "\n",
    "This _cell_ is a [Markdown](http://daringfireball.net/projects/markdown/syntax) cell: it contains text with markup commands rather than executable computer code.\n",
    "\n",
    "You can also style text in a Markdown cell using <strong>html</strong> <em>tags</em>.\n",
    "\n",
    "Markdown cells in Jupyter support [MathJax](https://www.mathjax.org/), so you can write lovely typeset mathematics, e.g., $ e^{i\\pi} = -1$.\n",
    "\n",
    "$$\n",
    "  e^x \\equiv \\sum_{j=1}^\\infty \\frac{x^j}{j!}.\n",
    "$$\n",
    "\n",
    "Here is a [demo of Markdown and MathJax in Jupyter](https://youtu.be/-F4WS8o-G2A)\n",
    "\n",
    "This particular Jupyter notebook is a Python notebook (there are also R and Julia notebooks, among other programming languages).\n",
    "This notebook is communicating with a Python kernel and can execute Python commands.\n",
    "\n",
    "[Here is an introduction to Python](https://www.python.org/about/gettingstarted/). \n",
    "\n",
    "For a more thorough introduction to Python for Science, see https://scipy-lectures.github.io/\n"
   ]
  },
  {
   "cell_type": "markdown",
   "metadata": {},
   "source": [
    "## Jupyter\n",
    "\n",
    "Most of Jupyter's functionality is clear from its drop-down menus: commands to insert or delete cells, to execute cells, to clear output, etc.\n",
    "\n",
    "One of the most useful features of Jupyter is its help functions and tab completion.\n",
    "\n",
    "For instance, typing \"tab\" while you are typing the name of a function will give you a list of functions that start with the letters you have typed so far.\n",
    "\n",
    "Please click \"help\" and take the User Interface Tour.\n"
   ]
  },
  {
   "cell_type": "markdown",
   "metadata": {},
   "source": [
    "## Python\n",
    "\n",
    "The rest of this notebook is a brief introduction to Python (within Jupyter). \n",
    "We will see more of Python in later sections of the course, as we encounter particular topics linear algebra, least squares, optimization, random number generation, the Bootstrap, etc."
   ]
  },
  {
   "cell_type": "code",
   "execution_count": null,
   "metadata": {
    "collapsed": false
   },
   "outputs": [],
   "source": [
    "# This is a code cell (but this line is a comment, because it starts with '#')\n",
    "# This is a Python notebook, so you can type Python commands into this cell, for example:\n",
    "print('Hello world!')"
   ]
  },
  {
   "cell_type": "code",
   "execution_count": null,
   "metadata": {
    "collapsed": false
   },
   "outputs": [],
   "source": [
    "# more Python\n",
    "\n",
    "# arithmetic\n",
    "print 5+2 \n",
    "print 5^2\n",
    "print 5/2 # by default, division of integers is truncated.\n",
    "print 5/2.0"
   ]
  },
  {
   "cell_type": "code",
   "execution_count": null,
   "metadata": {
    "collapsed": false
   },
   "outputs": [],
   "source": [
    "# You will use many Python packages to get higher-level data constructs, functions, etc.\n",
    "#  __future__ arithmetic doesn't truncate integer division\n",
    "from __future__ import division\n",
    "print 5/2"
   ]
  },
  {
   "cell_type": "code",
   "execution_count": null,
   "metadata": {
    "collapsed": false
   },
   "outputs": [],
   "source": [
    "sqrt(4)  # sqrt is not in the core language. It's in the math package."
   ]
  },
  {
   "cell_type": "code",
   "execution_count": 1,
   "metadata": {
    "collapsed": false
   },
   "outputs": [
    {
     "name": "stdout",
     "output_type": "stream",
     "text": [
      "2.0\n"
     ]
    },
    {
     "ename": "ValueError",
     "evalue": "math domain error",
     "output_type": "error",
     "traceback": [
      "\u001b[0;31m---------------------------------------------------------------------------\u001b[0m",
      "\u001b[0;31mValueError\u001b[0m                                Traceback (most recent call last)",
      "\u001b[0;32m<ipython-input-1-266c381803bf>\u001b[0m in \u001b[0;36m<module>\u001b[0;34m()\u001b[0m\n\u001b[1;32m      1\u001b[0m \u001b[0;32mimport\u001b[0m \u001b[0mmath\u001b[0m\u001b[0;34m\u001b[0m\u001b[0m\n\u001b[1;32m      2\u001b[0m \u001b[0;32mprint\u001b[0m \u001b[0mmath\u001b[0m\u001b[0;34m.\u001b[0m\u001b[0msqrt\u001b[0m\u001b[0;34m(\u001b[0m\u001b[0;36m4\u001b[0m\u001b[0;34m)\u001b[0m\u001b[0;34m\u001b[0m\u001b[0m\n\u001b[0;32m----> 3\u001b[0;31m \u001b[0;32mprint\u001b[0m \u001b[0mmath\u001b[0m\u001b[0;34m.\u001b[0m\u001b[0msqrt\u001b[0m\u001b[0;34m(\u001b[0m\u001b[0;34m-\u001b[0m\u001b[0;36m1\u001b[0m\u001b[0;34m)\u001b[0m  \u001b[0;31m# no complex arithmetic in the basic math package\u001b[0m\u001b[0;34m\u001b[0m\u001b[0m\n\u001b[0m",
      "\u001b[0;31mValueError\u001b[0m: math domain error"
     ]
    }
   ],
   "source": [
    "import math\n",
    "print math.sqrt(4)\n",
    "print math.sqrt(-1)  # no complex arithmetic in the basic math package"
   ]
  },
  {
   "cell_type": "code",
   "execution_count": 1,
   "metadata": {
    "collapsed": false
   },
   "outputs": [
    {
     "name": "stdout",
     "output_type": "stream",
     "text": [
      "1j\n",
      "2.0\n",
      "(2+0j)\n"
     ]
    }
   ],
   "source": [
    "import numpy as np  # numeric Python. Lots of goodies.\n",
    "import scipy as sp  # scientific Python. More goodies.\n",
    "\n",
    "print np.sqrt(-1+0j)      # Python uses j to denote sqrt(-1). Numpy can take the square root of complex numbers\n",
    "print np.sqrt(4)\n",
    "print np.sqrt(4+0j)"
   ]
  },
  {
   "cell_type": "code",
   "execution_count": 2,
   "metadata": {
    "collapsed": false
   },
   "outputs": [
    {
     "name": "stdout",
     "output_type": "stream",
     "text": [
      "5\n",
      "25\n",
      "5\n"
     ]
    }
   ],
   "source": [
    "# variables\n",
    "x = 5\n",
    "print x\n",
    "print x**2\n",
    "y = x\n",
    "print y"
   ]
  },
  {
   "cell_type": "code",
   "execution_count": null,
   "metadata": {
    "collapsed": false
   },
   "outputs": [],
   "source": [
    "# Python has some pre-defined values\n",
    "print math.pi\n",
    "print math.e"
   ]
  },
  {
   "cell_type": "code",
   "execution_count": null,
   "metadata": {
    "collapsed": false
   },
   "outputs": [],
   "source": [
    "# not a number\n",
    "x = float('nan')\n",
    "print x\n",
    "print x + 1  # arithmetic with \"NA\" gives \"NA\"\n",
    "\n",
    "print math.isnan(x)\n",
    "print math.isnan(math.pi)"
   ]
  },
  {
   "cell_type": "code",
   "execution_count": null,
   "metadata": {
    "collapsed": false
   },
   "outputs": [],
   "source": [
    "# ranges\n",
    "print range(5) # by default, ranges start at 0\n",
    "print range(1,5) # includes lower endpoint but not upper endpoint\n",
    "print range(1,10,2) # step size\n",
    "print range(10,5,-1) # negative steps are OK "
   ]
  },
  {
   "cell_type": "code",
   "execution_count": null,
   "metadata": {
    "collapsed": false
   },
   "outputs": [],
   "source": [
    "# non-integer spaced ranges\n",
    "print np.linspace(1, 3, num=5)  # 5 equispaced points between 1 and 3\n",
    "print np.linspace(3, 1, num=5)  # 5 equispaced points between 3 and 1\n",
    "\n",
    "print np.arange(1, 2, step = 0.1) # go from 1 to 2 in steps of 0.1\n",
    "print np.arange(3, 1, step = -0.5) # from 3 to 1 in steps of -0.5\n"
   ]
  },
  {
   "cell_type": "code",
   "execution_count": null,
   "metadata": {
    "collapsed": false
   },
   "outputs": [],
   "source": [
    "# how long is a list?\n",
    "y = range(5)\n",
    "print len(y)  \n",
    "\n",
    "# indexing a list\n",
    "print y[0]  # Python uses 0-based indexing\n",
    "print y[4]\n",
    "print y[6]  # nothing there!"
   ]
  },
  {
   "cell_type": "code",
   "execution_count": null,
   "metadata": {
    "collapsed": false
   },
   "outputs": [],
   "source": [
    "# you can append to lists\n",
    "y.append(2)\n",
    "print y\n",
    "print len(y)"
   ]
  },
  {
   "cell_type": "code",
   "execution_count": null,
   "metadata": {
    "collapsed": false
   },
   "outputs": [],
   "source": [
    "# you can pop elements from lists\n",
    "y = range(5)\n",
    "print y\n",
    "print y.pop()  # remove and return the last element of the list\n",
    "print y  # last element is gone now\n",
    "\n",
    "y = range(5)\n",
    "print y\n",
    "print y.pop(1) # remove and return the element in position 1 (recall Python uses 0-based indices)\n",
    "print y  # element in position 1 is gone now"
   ]
  },
  {
   "cell_type": "code",
   "execution_count": null,
   "metadata": {
    "collapsed": false
   },
   "outputs": [],
   "source": [
    "# slightly more advanced indexing\n",
    "#\n",
    "y = range(5)\n",
    "print y[2:4] # 3rd and 4th elements of y--remember, last element isn't included\n",
    "print y[2:5] # 3rd through 5th\n",
    "\n",
    "# logical indexing: easy to use list comprehensions\n",
    "ygt2 = [v for v in y if v > 2]\n",
    "print ygt2\n",
    "\n",
    "# alternatively, use a numpy array\n",
    "y = np.array(range(5))\n",
    "print y[np.where(y > 2)]"
   ]
  },
  {
   "cell_type": "code",
   "execution_count": null,
   "metadata": {
    "collapsed": false
   },
   "outputs": [],
   "source": [
    "# build a matrix\n",
    "x = np.array([[0,1], [0,2], [1,3]])\n",
    "print x\n",
    "print x.T"
   ]
  },
  {
   "cell_type": "code",
   "execution_count": null,
   "metadata": {
    "collapsed": false
   },
   "outputs": [],
   "source": [
    "# building arrays\n",
    "x = np.array(range(1,6))\n",
    "y = np.array(range(6, 11))\n",
    "\n",
    "# row binding\n",
    "print np.vstack((x,y))  # glue these together as rows\n",
    "print np.vstack((x,y,x**2))\n",
    "\n",
    "# column binding\n",
    "print np.vstack((x,y)).T  # glue these together as columns\n",
    "print np.vstack((x,y,x**2)).T"
   ]
  },
  {
   "cell_type": "code",
   "execution_count": null,
   "metadata": {
    "collapsed": false
   },
   "outputs": [],
   "source": [
    "# pre-defined arrays in numpy\n",
    "print np.ones((3,4))\n",
    "print np.zeros((4,3))"
   ]
  },
  {
   "cell_type": "code",
   "execution_count": null,
   "metadata": {
    "collapsed": false
   },
   "outputs": [],
   "source": [
    "# changing the dimension of an array\n",
    "x = np.ones((3,4))\n",
    "print x\n",
    "x = np.reshape(x, (4,3))\n",
    "print x"
   ]
  },
  {
   "cell_type": "code",
   "execution_count": null,
   "metadata": {
    "collapsed": false
   },
   "outputs": [],
   "source": [
    "# operations on numpy arrays\n",
    "y = np.array(range(1,5))\n",
    "print y\n",
    "print y**2\n",
    "print y^2  # careful: the caret operator is bitwise XOR, not exponentiation!\n",
    "print np.sqrt(y)\n",
    "print np.log(y)"
   ]
  },
  {
   "cell_type": "code",
   "execution_count": 3,
   "metadata": {
    "collapsed": false
   },
   "outputs": [
    {
     "name": "stdout",
     "output_type": "stream",
     "text": [
      "[[0 1]\n",
      " [0 2]\n",
      " [1 3]]\n",
      "[[ 1  3]\n",
      " [ 3 14]]\n",
      "[[ 2.8 -0.6]\n",
      " [-0.6  0.2]]\n",
      "[[  1.00000000e+00  -1.11022302e-16]\n",
      " [  0.00000000e+00   1.00000000e+00]]\n"
     ]
    }
   ],
   "source": [
    "# linear algebra: linalg package in scipy\n",
    "x = np.array([[0,1], [0,2], [1,3]])\n",
    "print x\n",
    "xtx = np.dot(x.T, x) # matrix multiplication\n",
    "print xtx\n",
    "\n",
    "from scipy import linalg\n",
    "\n",
    "xtxInv = sp.linalg.inv(xtx)  # matrix inversion is in the linalg part of scipy. \n",
    "                             # NOTE: generally should avoid inverting matrices\n",
    "                             # there are much better ways to solve linear systems\n",
    "\n",
    "print xtxInv\n",
    "\n",
    "print np.dot(xtx, xtxInv)  # was that really the inverse?"
   ]
  },
  {
   "cell_type": "code",
   "execution_count": 4,
   "metadata": {
    "collapsed": false
   },
   "outputs": [
    {
     "name": "stdout",
     "output_type": "stream",
     "text": [
      "[-0.6  0.2] [ 0.  0.]\n"
     ]
    }
   ],
   "source": [
    "# solving linear systems: the linalg package in scipy\n",
    "\n",
    "b = np.array([0, 1])\n",
    "y = linalg.solve(xtx,b) \n",
    "print y, np.dot(xtx,y) -b"
   ]
  },
  {
   "cell_type": "code",
   "execution_count": 5,
   "metadata": {
    "collapsed": false
   },
   "outputs": [
    {
     "name": "stdout",
     "output_type": "stream",
     "text": [
      "[ 0.38776813  0.57195166  0.19630796  0.        ] [-0.29571899  3.56699677 -6.66951744  4.9848357 ]\n",
      "difference: [-0.68348712  2.99504511 -6.8658254   4.9848357 ]\n"
     ]
    }
   ],
   "source": [
    "# least squares: linalg package in scipy\n",
    "\n",
    "# build a quadratic with noise; fit a cubic\n",
    "\n",
    "import numpy.random\n",
    "\n",
    "n = 25\n",
    "\n",
    "x = np.linspace(0,1,n)  # grid of x values\n",
    "A = np.vstack((np.ones(n), x, x**2, x**3)).T # Design matrix. The column of ones gives the constant term.\n",
    "\n",
    "# generate fake data\n",
    "coeffs = np.random.rand(3)     # three independent uniform[0,1] variables\n",
    "coeffs = np.append(coeffs,0)\n",
    "y = np.dot(A, coeffs) + np.random.randn(n)  # data are quadratic plus independent standard Gaussian noise\n",
    "\n",
    "fitc, err, rank, sigma = linalg.lstsq(A, y)\n",
    "\n",
    "print coeffs, fitc\n",
    "print 'difference:', fitc-coeffs"
   ]
  },
  {
   "cell_type": "code",
   "execution_count": 10,
   "metadata": {
    "collapsed": false
   },
   "outputs": [
    {
     "data": {
      "image/png": "[encoded data removed]",
      "text/plain": [
       "<matplotlib.figure.Figure at 0x106901210>"
      ]
     },
     "metadata": {},
     "output_type": "display_data"
    }
   ],
   "source": [
    "# a little plotting\n",
    "# the %matplotlib inline call is a bit of \"magic\" so that plots display in the browser.\n",
    "%matplotlib inline  \n",
    "import matplotlib.pyplot as plt\n",
    "\n",
    "preds = np.dot(A, fitc)\n",
    "\n",
    "plt.plot(x,y,'.',x,preds,'--', linewidth=2)\n",
    "plt.axis([-0.1,1.1,-3,4])\n",
    "plt.xlabel('$x$')\n",
    "plt.ylabel('$y$, predictions')\n",
    "plt.title('Fitting cubic to quadratic data with $N(0,1)$ errors')\n",
    "plt.show()"
   ]
  },
  {
   "cell_type": "code",
   "execution_count": null,
   "metadata": {
    "collapsed": false
   },
   "outputs": [],
   "source": [
    "# logical (Boolean) variables\n",
    "print True\n",
    "print False\n",
    "x = True\n",
    "print x\n",
    "print 1 == 2\n",
    "print 1 > 2\n",
    "print 1 >= 2\n",
    "print 1 != 2"
   ]
  },
  {
   "cell_type": "code",
   "execution_count": null,
   "metadata": {
    "collapsed": false
   },
   "outputs": [],
   "source": [
    "# logical operators\n",
    "print not True\n",
    "print not False\n",
    "print True or False  # logical \"or\"\n",
    "print False or False\n",
    "print True and True  # logical \"and\"\n",
    "print True and False\n",
    "print not(True and False)"
   ]
  },
  {
   "cell_type": "code",
   "execution_count": null,
   "metadata": {
    "collapsed": false
   },
   "outputs": [],
   "source": [
    "# most numerical values can be cast as Booleans\n",
    "print 0 and True\n",
    "print 0 or True\n",
    "print 1 and True\n",
    "print math.pi and True\n",
    "print \"hello\" and True "
   ]
  },
  {
   "cell_type": "code",
   "execution_count": null,
   "metadata": {
    "collapsed": false
   },
   "outputs": [],
   "source": [
    "# sorting, max, min\n",
    "x = np.array(range(10,5,-1))\n",
    "print x\n",
    "print np.sort(x)\n",
    "# what permutation puts the list in sorted order?\n",
    "print np.argsort(x)\n",
    "#\n",
    "print np.max(x), np.min(x), np.max(x**2), np.max(x)**2\n",
    "print np.sum(x), np.cumsum(x)\n",
    "print np.prod(x), np.cumprod(x)"
   ]
  },
  {
   "cell_type": "code",
   "execution_count": null,
   "metadata": {
    "collapsed": false
   },
   "outputs": [],
   "source": [
    "# Set operations\n",
    "x = [1, 2, 3, 3, 3]\n",
    "print x\n",
    "s = set(x)\n",
    "print s\n",
    "print len(s) # cardinality of s\n",
    "\n",
    "print 1 in s  # is 1 an element of s?\n",
    "print 0 not in s  #\n",
    "\n",
    "print s.isdisjoint([1, 2])\n",
    "print s.isdisjoint([0, 10])\n",
    "\n",
    "print s.issubset(range(1,5))\n",
    "print s <= range(1,5)\n",
    "print s.issubset(range(2))\n",
    "print s <= range(2)\n",
    "\n",
    "print s < range(1,5)  # proper subset?\n",
    "print s < range(1,4)\n",
    "\n",
    "print s.issuperset(range(1,3))\n",
    "print s >= range(1,3)\n",
    "print s > range(1,4)\n",
    "print s > range(1,3)\n",
    "\n",
    "print s.union(range(5,10))\n",
    "print s | set(range(5,10))\n",
    "\n",
    "print s.intersection(range(2))\n",
    "print s & set(range(2))\n",
    "\n",
    "print s.difference(range(2))"
   ]
  },
  {
   "cell_type": "code",
   "execution_count": null,
   "metadata": {
    "collapsed": false
   },
   "outputs": [],
   "source": [
    "# printing and flow control\n",
    "x = 3\n",
    "\n",
    "for i in range(x):  # first flow control\n",
    "    print x**i\n",
    "\n",
    "i =1\n",
    "while i <= 5: # second flow control\n",
    "    print x**i\n",
    "    i =i+1\n",
    "\n",
    "if 1 < 2:  # third flow control\n",
    "    print '1 is less than 2'\n",
    "\n",
    "\n",
    "if 2 < 1:\n",
    "    print '2 is less than 1'\n",
    "else:\n",
    "    print '2 is not less than 1'\n",
    "\n",
    "if 2 < 0:\n",
    "    print '2 is less than 0'\n",
    "elif 2 < 1:\n",
    "    print '2 is less than 1'\n",
    "else:\n",
    "    print '2 is neither less than 1 nor less than zero'"
   ]
  },
  {
   "cell_type": "markdown",
   "metadata": {
    "collapsed": true
   },
   "source": [
    "Next chapter: [Probability](prob.ipynb)"
   ]
  },
  {
   "cell_type": "code",
   "execution_count": null,
   "metadata": {
    "collapsed": true
   },
   "outputs": [],
   "source": []
  }
 ],
 "metadata": {
  "kernelspec": {
   "display_name": "Python 2",
   "language": "python",
   "name": "python2"
  },
  "language_info": {
   "codemirror_mode": {
    "name": "ipython",
    "version": 2
   },
   "file_extension": ".py",
   "mimetype": "text/x-python",
   "name": "python",
   "nbconvert_exporter": "python",
   "pygments_lexer": "ipython2",
   "version": "2.7.10"
  }
 },
 "nbformat": 4,
 "nbformat_minor": 0
}
